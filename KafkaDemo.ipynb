{
 "cells": [
  {
   "cell_type": "markdown",
   "id": "59b2d799",
   "metadata": {},
   "source": [
    "# Kafka Demo\n",
    "\n",
    "### Connect to Kafka Broker Server \n",
    "```\n",
    "ssh -L <local_port>:localhost:<remote_port> <user>@<remote_server> -NTf\n",
    "```\n",
    "Find how to connect to Kafka server on Canvas lab 2 assignment page.\n",
    "\n",
    "### To kill connection\n",
    "```\n",
    "lsof -ti:<local_port> | xargs kill -9\n",
    "```\n",
    "\n",
    "### Setup\n",
    "```\n",
    "python -m pip install kafka-python\n",
    "```"
   ]
  },
  {
   "cell_type": "code",
   "execution_count": 1,
   "id": "560fd2bb",
   "metadata": {
    "ExecuteTime": {
     "end_time": "2024-09-03T20:53:48.295316Z",
     "start_time": "2024-09-03T20:53:48.290645Z"
    }
   },
   "outputs": [],
   "source": [
    "import os\n",
    "from datetime import datetime\n",
    "from json import dumps, loads\n",
    "from time import sleep\n",
    "from random import randint\n",
    "from kafka import KafkaConsumer, KafkaProducer\n",
    "\n",
    "# Update this for your own recitation section :)\n",
    "topic = 'recitation-x' # x could be b, c, d, e, f"
   ]
  },
  {
   "cell_type": "markdown",
   "id": "0eb9dd6f",
   "metadata": {},
   "source": [
    "### Producer Mode -> Writes Data to Broker"
   ]
  },
  {
   "cell_type": "code",
   "execution_count": 2,
   "id": "aa4679a1",
   "metadata": {},
   "outputs": [
    {
     "name": "stdout",
     "output_type": "stream",
     "text": [
      "Writing to Kafka Broker\n",
      "Writing: {'timestamp': '2025-02-05 17:25:14', 'dish': 'Toast', 'ingredient1': 'Bread', 'ingredient2': 'Butter', 'ingredient3': 'Jam'}\n",
      "Writing: {'timestamp': '2025-02-05 17:25:15', 'dish': 'Smoothie', 'ingredient1': 'Banana', 'ingredient2': 'Yogurt', 'ingredient3': 'Honey'}\n",
      "Writing: {'timestamp': '2025-02-05 17:25:16', 'dish': 'Smoothie', 'ingredient1': 'Banana', 'ingredient2': 'Yogurt', 'ingredient3': 'Honey'}\n",
      "Writing: {'timestamp': '2025-02-05 17:25:17', 'dish': 'Omelette', 'ingredient1': 'Eggs', 'ingredient2': 'Cheese', 'ingredient3': 'Bell Peppers'}\n",
      "Writing: {'timestamp': '2025-02-05 17:25:18', 'dish': 'Omelette', 'ingredient1': 'Eggs', 'ingredient2': 'Cheese', 'ingredient3': 'Bell Peppers'}\n",
      "Writing: {'timestamp': '2025-02-05 17:25:19', 'dish': 'Pancakes', 'ingredient1': 'Flour', 'ingredient2': 'Eggs', 'ingredient3': 'Milk'}\n",
      "Writing: {'timestamp': '2025-02-05 17:25:20', 'dish': 'Smoothie', 'ingredient1': 'Banana', 'ingredient2': 'Yogurt', 'ingredient3': 'Honey'}\n",
      "Writing: {'timestamp': '2025-02-05 17:25:21', 'dish': 'Pancakes', 'ingredient1': 'Flour', 'ingredient2': 'Eggs', 'ingredient3': 'Milk'}\n",
      "Writing: {'timestamp': '2025-02-05 17:25:22', 'dish': 'Toast', 'ingredient1': 'Bread', 'ingredient2': 'Butter', 'ingredient3': 'Jam'}\n",
      "Writing: {'timestamp': '2025-02-05 17:25:23', 'dish': 'Cereal', 'ingredient1': 'Oats', 'ingredient2': 'Milk', 'ingredient3': 'Fruits'}\n",
      "Breakfast data successfully sent to Kafka!\n"
     ]
    }
   ],
   "source": [
    "from kafka import KafkaProducer\n",
    "from json import dumps\n",
    "from time import sleep\n",
    "from datetime import datetime\n",
    "from random import randint\n",
    "\n",
    "# Create a producer to write data to Kafka\n",
    "# Ref: https://kafka-python.readthedocs.io/en/master/apidoc/KafkaProducer.html\n",
    "\n",
    "# Kafka bootstrap server\n",
    "producer = KafkaProducer(bootstrap_servers=['localhost:9092'],\n",
    "                         value_serializer=lambda x: dumps(x).encode('utf-8'))\n",
    "\n",
    "# Topic name updated to 'breakfast'\n",
    "topic = \"breakfast\"\n",
    "\n",
    "# [TODO]: Define breakfast items with main ingredients\n",
    "breakfast_items = [\n",
    "    {\"name\": \"Pancakes\", \"ingredient1\": \"Flour\", \"ingredient2\": \"Eggs\", \"ingredient3\": \"Milk\"},\n",
    "    {\"name\": \"Omelette\", \"ingredient1\": \"Eggs\", \"ingredient2\": \"Cheese\", \"ingredient3\": \"Bell Peppers\"},\n",
    "    {\"name\": \"Smoothie\", \"ingredient1\": \"Banana\", \"ingredient2\": \"Yogurt\", \"ingredient3\": \"Honey\"},\n",
    "    {\"name\": \"Toast\", \"ingredient1\": \"Bread\", \"ingredient2\": \"Butter\", \"ingredient3\": \"Jam\"},\n",
    "    {\"name\": \"Cereal\", \"ingredient1\": \"Oats\", \"ingredient2\": \"Milk\", \"ingredient3\": \"Fruits\"}\n",
    "]\n",
    "\n",
    "# Write data via the producer\n",
    "print(\"Writing to Kafka Broker\")\n",
    "for i in range(10):\n",
    "    breakfast_data = breakfast_items[randint(0, len(breakfast_items) - 1)]  # Select a random breakfast item\n",
    "    data = {\n",
    "        \"timestamp\": datetime.now().strftime(\"%Y-%m-%d %H:%M:%S\"),\n",
    "        \"dish\": breakfast_data[\"name\"],\n",
    "        \"ingredient1\": breakfast_data[\"ingredient1\"],\n",
    "        \"ingredient2\": breakfast_data[\"ingredient2\"],\n",
    "        \"ingredient3\": breakfast_data[\"ingredient3\"]\n",
    "    }\n",
    "    \n",
    "    print(f\"Writing: {data}\")\n",
    "    producer.send(topic=topic, value=data)\n",
    "    sleep(1) \n",
    "\n",
    "print(\"Breakfast data successfully sent to Kafka!\")\n"
   ]
  },
  {
   "cell_type": "markdown",
   "id": "a45bbace",
   "metadata": {},
   "source": [
    "### Consumer Mode -> Reads Data from Broker"
   ]
  },
  {
   "cell_type": "code",
   "execution_count": 3,
   "id": "a5e2f59f",
   "metadata": {},
   "outputs": [
    {
     "name": "stdout",
     "output_type": "stream",
     "text": [
      "Reading from Kafka Broker...\n",
      "{'timestamp': '2025-02-05 17:25:14', 'dish': 'Toast', 'ingredient1': 'Bread', 'ingredient2': 'Butter', 'ingredient3': 'Jam'}\n",
      "{'timestamp': '2025-02-05 17:25:15', 'dish': 'Smoothie', 'ingredient1': 'Banana', 'ingredient2': 'Yogurt', 'ingredient3': 'Honey'}\n",
      "{'timestamp': '2025-02-05 17:25:16', 'dish': 'Smoothie', 'ingredient1': 'Banana', 'ingredient2': 'Yogurt', 'ingredient3': 'Honey'}\n",
      "{'timestamp': '2025-02-05 17:25:17', 'dish': 'Omelette', 'ingredient1': 'Eggs', 'ingredient2': 'Cheese', 'ingredient3': 'Bell Peppers'}\n",
      "{'timestamp': '2025-02-05 17:25:18', 'dish': 'Omelette', 'ingredient1': 'Eggs', 'ingredient2': 'Cheese', 'ingredient3': 'Bell Peppers'}\n",
      "{'timestamp': '2025-02-05 17:25:19', 'dish': 'Pancakes', 'ingredient1': 'Flour', 'ingredient2': 'Eggs', 'ingredient3': 'Milk'}\n",
      "{'timestamp': '2025-02-05 17:25:20', 'dish': 'Smoothie', 'ingredient1': 'Banana', 'ingredient2': 'Yogurt', 'ingredient3': 'Honey'}\n",
      "{'timestamp': '2025-02-05 17:25:21', 'dish': 'Pancakes', 'ingredient1': 'Flour', 'ingredient2': 'Eggs', 'ingredient3': 'Milk'}\n",
      "{'timestamp': '2025-02-05 17:25:22', 'dish': 'Toast', 'ingredient1': 'Bread', 'ingredient2': 'Butter', 'ingredient3': 'Jam'}\n",
      "{'timestamp': '2025-02-05 17:25:23', 'dish': 'Cereal', 'ingredient1': 'Oats', 'ingredient2': 'Milk', 'ingredient3': 'Fruits'}\n"
     ]
    },
    {
     "ename": "KeyboardInterrupt",
     "evalue": "",
     "output_type": "error",
     "traceback": [
      "\u001b[0;31m---------------------------------------------------------------------------\u001b[0m",
      "\u001b[0;31mKeyboardInterrupt\u001b[0m                         Traceback (most recent call last)",
      "Cell \u001b[0;32mIn[3], line 18\u001b[0m\n\u001b[1;32m      8\u001b[0m consumer \u001b[38;5;241m=\u001b[39m KafkaConsumer(\n\u001b[1;32m      9\u001b[0m     \u001b[38;5;124m'\u001b[39m\u001b[38;5;124mbreakfast\u001b[39m\u001b[38;5;124m'\u001b[39m,  \u001b[38;5;66;03m# Updated topic name\u001b[39;00m\n\u001b[1;32m     10\u001b[0m     bootstrap_servers\u001b[38;5;241m=\u001b[39m[\u001b[38;5;124m'\u001b[39m\u001b[38;5;124mlocalhost:9092\u001b[39m\u001b[38;5;124m'\u001b[39m],\n\u001b[0;32m   (...)\u001b[0m\n\u001b[1;32m     14\u001b[0m     value_deserializer\u001b[38;5;241m=\u001b[39m\u001b[38;5;28;01mlambda\u001b[39;00m x: json\u001b[38;5;241m.\u001b[39mloads(x\u001b[38;5;241m.\u001b[39mdecode(\u001b[38;5;124m'\u001b[39m\u001b[38;5;124mutf-8\u001b[39m\u001b[38;5;124m'\u001b[39m)),  \u001b[38;5;66;03m# Deserialize JSON message\u001b[39;00m\n\u001b[1;32m     15\u001b[0m )\n\u001b[1;32m     17\u001b[0m \u001b[38;5;28mprint\u001b[39m(\u001b[38;5;124m'\u001b[39m\u001b[38;5;124mReading from Kafka Broker...\u001b[39m\u001b[38;5;124m'\u001b[39m)\n\u001b[0;32m---> 18\u001b[0m \u001b[38;5;28;01mfor\u001b[39;00m message \u001b[38;5;129;01min\u001b[39;00m consumer:\n\u001b[1;32m     19\u001b[0m     message_data \u001b[38;5;241m=\u001b[39m message\u001b[38;5;241m.\u001b[39mvalue  \u001b[38;5;66;03m# JSON data is already deserialized\u001b[39;00m\n\u001b[1;32m     20\u001b[0m     \u001b[38;5;28mprint\u001b[39m(message_data)\n",
      "File \u001b[0;32m~/.pyenv/versions/3.10.12/lib/python3.10/site-packages/kafka/consumer/group.py:1193\u001b[0m, in \u001b[0;36mKafkaConsumer.__next__\u001b[0;34m(self)\u001b[0m\n\u001b[1;32m   1191\u001b[0m     \u001b[38;5;28;01mreturn\u001b[39;00m \u001b[38;5;28mself\u001b[39m\u001b[38;5;241m.\u001b[39mnext_v1()\n\u001b[1;32m   1192\u001b[0m \u001b[38;5;28;01melse\u001b[39;00m:\n\u001b[0;32m-> 1193\u001b[0m     \u001b[38;5;28;01mreturn\u001b[39;00m \u001b[38;5;28;43mself\u001b[39;49m\u001b[38;5;241;43m.\u001b[39;49m\u001b[43mnext_v2\u001b[49m\u001b[43m(\u001b[49m\u001b[43m)\u001b[49m\n",
      "File \u001b[0;32m~/.pyenv/versions/3.10.12/lib/python3.10/site-packages/kafka/consumer/group.py:1201\u001b[0m, in \u001b[0;36mKafkaConsumer.next_v2\u001b[0;34m(self)\u001b[0m\n\u001b[1;32m   1199\u001b[0m     \u001b[38;5;28mself\u001b[39m\u001b[38;5;241m.\u001b[39m_iterator \u001b[38;5;241m=\u001b[39m \u001b[38;5;28mself\u001b[39m\u001b[38;5;241m.\u001b[39m_message_generator_v2()\n\u001b[1;32m   1200\u001b[0m \u001b[38;5;28;01mtry\u001b[39;00m:\n\u001b[0;32m-> 1201\u001b[0m     \u001b[38;5;28;01mreturn\u001b[39;00m \u001b[38;5;28;43mnext\u001b[39;49m\u001b[43m(\u001b[49m\u001b[38;5;28;43mself\u001b[39;49m\u001b[38;5;241;43m.\u001b[39;49m\u001b[43m_iterator\u001b[49m\u001b[43m)\u001b[49m\n\u001b[1;32m   1202\u001b[0m \u001b[38;5;28;01mexcept\u001b[39;00m \u001b[38;5;167;01mStopIteration\u001b[39;00m:\n\u001b[1;32m   1203\u001b[0m     \u001b[38;5;28mself\u001b[39m\u001b[38;5;241m.\u001b[39m_iterator \u001b[38;5;241m=\u001b[39m \u001b[38;5;28;01mNone\u001b[39;00m\n",
      "File \u001b[0;32m~/.pyenv/versions/3.10.12/lib/python3.10/site-packages/kafka/consumer/group.py:1116\u001b[0m, in \u001b[0;36mKafkaConsumer._message_generator_v2\u001b[0;34m(self)\u001b[0m\n\u001b[1;32m   1114\u001b[0m \u001b[38;5;28;01mdef\u001b[39;00m\u001b[38;5;250m \u001b[39m\u001b[38;5;21m_message_generator_v2\u001b[39m(\u001b[38;5;28mself\u001b[39m):\n\u001b[1;32m   1115\u001b[0m     timeout_ms \u001b[38;5;241m=\u001b[39m \u001b[38;5;241m1000\u001b[39m \u001b[38;5;241m*\u001b[39m (\u001b[38;5;28mself\u001b[39m\u001b[38;5;241m.\u001b[39m_consumer_timeout \u001b[38;5;241m-\u001b[39m time\u001b[38;5;241m.\u001b[39mtime())\n\u001b[0;32m-> 1116\u001b[0m     record_map \u001b[38;5;241m=\u001b[39m \u001b[38;5;28;43mself\u001b[39;49m\u001b[38;5;241;43m.\u001b[39;49m\u001b[43mpoll\u001b[49m\u001b[43m(\u001b[49m\u001b[43mtimeout_ms\u001b[49m\u001b[38;5;241;43m=\u001b[39;49m\u001b[43mtimeout_ms\u001b[49m\u001b[43m,\u001b[49m\u001b[43m \u001b[49m\u001b[43mupdate_offsets\u001b[49m\u001b[38;5;241;43m=\u001b[39;49m\u001b[38;5;28;43;01mFalse\u001b[39;49;00m\u001b[43m)\u001b[49m\n\u001b[1;32m   1117\u001b[0m     \u001b[38;5;28;01mfor\u001b[39;00m tp, records \u001b[38;5;129;01min\u001b[39;00m six\u001b[38;5;241m.\u001b[39miteritems(record_map):\n\u001b[1;32m   1118\u001b[0m         \u001b[38;5;66;03m# Generators are stateful, and it is possible that the tp / records\u001b[39;00m\n\u001b[1;32m   1119\u001b[0m         \u001b[38;5;66;03m# here may become stale during iteration -- i.e., we seek to a\u001b[39;00m\n\u001b[1;32m   1120\u001b[0m         \u001b[38;5;66;03m# different offset, pause consumption, or lose assignment.\u001b[39;00m\n\u001b[1;32m   1121\u001b[0m         \u001b[38;5;28;01mfor\u001b[39;00m record \u001b[38;5;129;01min\u001b[39;00m records:\n\u001b[1;32m   1122\u001b[0m             \u001b[38;5;66;03m# is_fetchable(tp) should handle assignment changes and offset\u001b[39;00m\n\u001b[1;32m   1123\u001b[0m             \u001b[38;5;66;03m# resets; for all other changes (e.g., seeks) we'll rely on the\u001b[39;00m\n\u001b[1;32m   1124\u001b[0m             \u001b[38;5;66;03m# outer function destroying the existing iterator/generator\u001b[39;00m\n\u001b[1;32m   1125\u001b[0m             \u001b[38;5;66;03m# via self._iterator = None\u001b[39;00m\n",
      "File \u001b[0;32m~/.pyenv/versions/3.10.12/lib/python3.10/site-packages/kafka/consumer/group.py:655\u001b[0m, in \u001b[0;36mKafkaConsumer.poll\u001b[0;34m(self, timeout_ms, max_records, update_offsets)\u001b[0m\n\u001b[1;32m    653\u001b[0m remaining \u001b[38;5;241m=\u001b[39m timeout_ms\n\u001b[1;32m    654\u001b[0m \u001b[38;5;28;01mwhile\u001b[39;00m \u001b[38;5;28;01mTrue\u001b[39;00m:\n\u001b[0;32m--> 655\u001b[0m     records \u001b[38;5;241m=\u001b[39m \u001b[38;5;28;43mself\u001b[39;49m\u001b[38;5;241;43m.\u001b[39;49m\u001b[43m_poll_once\u001b[49m\u001b[43m(\u001b[49m\u001b[43mremaining\u001b[49m\u001b[43m,\u001b[49m\u001b[43m \u001b[49m\u001b[43mmax_records\u001b[49m\u001b[43m,\u001b[49m\u001b[43m \u001b[49m\u001b[43mupdate_offsets\u001b[49m\u001b[38;5;241;43m=\u001b[39;49m\u001b[43mupdate_offsets\u001b[49m\u001b[43m)\u001b[49m\n\u001b[1;32m    656\u001b[0m     \u001b[38;5;28;01mif\u001b[39;00m records:\n\u001b[1;32m    657\u001b[0m         \u001b[38;5;28;01mreturn\u001b[39;00m records\n",
      "File \u001b[0;32m~/.pyenv/versions/3.10.12/lib/python3.10/site-packages/kafka/consumer/group.py:702\u001b[0m, in \u001b[0;36mKafkaConsumer._poll_once\u001b[0;34m(self, timeout_ms, max_records, update_offsets)\u001b[0m\n\u001b[1;32m    699\u001b[0m     \u001b[38;5;28mself\u001b[39m\u001b[38;5;241m.\u001b[39m_client\u001b[38;5;241m.\u001b[39mpoll(timeout_ms\u001b[38;5;241m=\u001b[39m\u001b[38;5;241m0\u001b[39m)\n\u001b[1;32m    701\u001b[0m timeout_ms \u001b[38;5;241m=\u001b[39m \u001b[38;5;28mmin\u001b[39m(timeout_ms, \u001b[38;5;28mself\u001b[39m\u001b[38;5;241m.\u001b[39m_coordinator\u001b[38;5;241m.\u001b[39mtime_to_next_poll() \u001b[38;5;241m*\u001b[39m \u001b[38;5;241m1000\u001b[39m)\n\u001b[0;32m--> 702\u001b[0m \u001b[38;5;28;43mself\u001b[39;49m\u001b[38;5;241;43m.\u001b[39;49m\u001b[43m_client\u001b[49m\u001b[38;5;241;43m.\u001b[39;49m\u001b[43mpoll\u001b[49m\u001b[43m(\u001b[49m\u001b[43mtimeout_ms\u001b[49m\u001b[38;5;241;43m=\u001b[39;49m\u001b[43mtimeout_ms\u001b[49m\u001b[43m)\u001b[49m\n\u001b[1;32m    703\u001b[0m \u001b[38;5;66;03m# after the long poll, we should check whether the group needs to rebalance\u001b[39;00m\n\u001b[1;32m    704\u001b[0m \u001b[38;5;66;03m# prior to returning data so that the group can stabilize faster\u001b[39;00m\n\u001b[1;32m    705\u001b[0m \u001b[38;5;28;01mif\u001b[39;00m \u001b[38;5;28mself\u001b[39m\u001b[38;5;241m.\u001b[39m_coordinator\u001b[38;5;241m.\u001b[39mneed_rejoin():\n",
      "File \u001b[0;32m~/.pyenv/versions/3.10.12/lib/python3.10/site-packages/kafka/client_async.py:602\u001b[0m, in \u001b[0;36mKafkaClient.poll\u001b[0;34m(self, timeout_ms, future)\u001b[0m\n\u001b[1;32m    599\u001b[0m             timeout \u001b[38;5;241m=\u001b[39m \u001b[38;5;28mmin\u001b[39m(timeout, \u001b[38;5;28mself\u001b[39m\u001b[38;5;241m.\u001b[39mconfig[\u001b[38;5;124m'\u001b[39m\u001b[38;5;124mretry_backoff_ms\u001b[39m\u001b[38;5;124m'\u001b[39m])\n\u001b[1;32m    600\u001b[0m         timeout \u001b[38;5;241m=\u001b[39m \u001b[38;5;28mmax\u001b[39m(\u001b[38;5;241m0\u001b[39m, timeout)  \u001b[38;5;66;03m# avoid negative timeouts\u001b[39;00m\n\u001b[0;32m--> 602\u001b[0m     \u001b[38;5;28;43mself\u001b[39;49m\u001b[38;5;241;43m.\u001b[39;49m\u001b[43m_poll\u001b[49m\u001b[43m(\u001b[49m\u001b[43mtimeout\u001b[49m\u001b[43m \u001b[49m\u001b[38;5;241;43m/\u001b[39;49m\u001b[43m \u001b[49m\u001b[38;5;241;43m1000\u001b[39;49m\u001b[43m)\u001b[49m\n\u001b[1;32m    604\u001b[0m \u001b[38;5;66;03m# called without the lock to avoid deadlock potential\u001b[39;00m\n\u001b[1;32m    605\u001b[0m \u001b[38;5;66;03m# if handlers need to acquire locks\u001b[39;00m\n\u001b[1;32m    606\u001b[0m responses\u001b[38;5;241m.\u001b[39mextend(\u001b[38;5;28mself\u001b[39m\u001b[38;5;241m.\u001b[39m_fire_pending_completed_requests())\n",
      "File \u001b[0;32m~/.pyenv/versions/3.10.12/lib/python3.10/site-packages/kafka/client_async.py:634\u001b[0m, in \u001b[0;36mKafkaClient._poll\u001b[0;34m(self, timeout)\u001b[0m\n\u001b[1;32m    631\u001b[0m \u001b[38;5;28mself\u001b[39m\u001b[38;5;241m.\u001b[39m_register_send_sockets()\n\u001b[1;32m    633\u001b[0m start_select \u001b[38;5;241m=\u001b[39m time\u001b[38;5;241m.\u001b[39mtime()\n\u001b[0;32m--> 634\u001b[0m ready \u001b[38;5;241m=\u001b[39m \u001b[38;5;28;43mself\u001b[39;49m\u001b[38;5;241;43m.\u001b[39;49m\u001b[43m_selector\u001b[49m\u001b[38;5;241;43m.\u001b[39;49m\u001b[43mselect\u001b[49m\u001b[43m(\u001b[49m\u001b[43mtimeout\u001b[49m\u001b[43m)\u001b[49m\n\u001b[1;32m    635\u001b[0m end_select \u001b[38;5;241m=\u001b[39m time\u001b[38;5;241m.\u001b[39mtime()\n\u001b[1;32m    636\u001b[0m \u001b[38;5;28;01mif\u001b[39;00m \u001b[38;5;28mself\u001b[39m\u001b[38;5;241m.\u001b[39m_sensors:\n",
      "File \u001b[0;32m~/.pyenv/versions/3.10.12/lib/python3.10/selectors.py:562\u001b[0m, in \u001b[0;36mKqueueSelector.select\u001b[0;34m(self, timeout)\u001b[0m\n\u001b[1;32m    560\u001b[0m ready \u001b[38;5;241m=\u001b[39m []\n\u001b[1;32m    561\u001b[0m \u001b[38;5;28;01mtry\u001b[39;00m:\n\u001b[0;32m--> 562\u001b[0m     kev_list \u001b[38;5;241m=\u001b[39m \u001b[38;5;28;43mself\u001b[39;49m\u001b[38;5;241;43m.\u001b[39;49m\u001b[43m_selector\u001b[49m\u001b[38;5;241;43m.\u001b[39;49m\u001b[43mcontrol\u001b[49m\u001b[43m(\u001b[49m\u001b[38;5;28;43;01mNone\u001b[39;49;00m\u001b[43m,\u001b[49m\u001b[43m \u001b[49m\u001b[43mmax_ev\u001b[49m\u001b[43m,\u001b[49m\u001b[43m \u001b[49m\u001b[43mtimeout\u001b[49m\u001b[43m)\u001b[49m\n\u001b[1;32m    563\u001b[0m \u001b[38;5;28;01mexcept\u001b[39;00m \u001b[38;5;167;01mInterruptedError\u001b[39;00m:\n\u001b[1;32m    564\u001b[0m     \u001b[38;5;28;01mreturn\u001b[39;00m ready\n",
      "\u001b[0;31mKeyboardInterrupt\u001b[0m: "
     ]
    }
   ],
   "source": [
    "from kafka import KafkaConsumer\n",
    "import os\n",
    "import json\n",
    "\n",
    "# Create a consumer to read data from Kafka\n",
    "# Ref: https://kafka-python.readthedocs.io/en/master/apidoc/KafkaConsumer.html\n",
    "\n",
    "consumer = KafkaConsumer(\n",
    "    'breakfast',  # Updated topic name\n",
    "    bootstrap_servers=['localhost:9092'],\n",
    "    auto_offset_reset='earliest',  # Reads messages from the beginning\n",
    "    enable_auto_commit=True,  # Commit that an offset has been read\n",
    "    auto_commit_interval_ms=1000,  # How often to tell Kafka an offset has been read\n",
    "    value_deserializer=lambda x: json.loads(x.decode('utf-8')),  # Deserialize JSON message\n",
    "    consumer_timeout_ms=5000  # Stop consumer when no new messages arrive\n",
    ")\n",
    "\n",
    "print('Reading from Kafka Broker...')\n",
    "for message in consumer:\n",
    "    message_data = message.value  # JSON data is already deserialized\n",
    "    print(message_data)\n",
    "\n",
    "    # Write received message to a log file\n",
    "    with open(\"kafka_log.csv\", \"a\") as log_file:\n",
    "        log_file.write(f\"{message_data['timestamp']},{message_data['dish']},{message_data['ingredient1']},{message_data['ingredient2']},{message_data['ingredient3']}\\n\")\n",
    "\n",
    "print(\"Finished reading messages.\")\n"
   ]
  },
  {
   "cell_type": "markdown",
   "id": "38927152",
   "metadata": {},
   "source": [
    "# Use kcat!\n",
    "It's a CLI (Command Line Interface). Previously known as kafkacat\n",
    "\n",
    "\n",
    "Ref: https://docs.confluent.io/platform/current/app-development/kafkacat-usage.html"
   ]
  },
  {
   "cell_type": "code",
   "execution_count": null,
   "id": "e19b63da",
   "metadata": {},
   "outputs": [],
   "source": [
    "#kcat command: connect to local Kafka broker, specify a topic, and consume messages from the earliest offset"
   ]
  }
 ],
 "metadata": {
  "kernelspec": {
   "display_name": "Python 3",
   "language": "python",
   "name": "python3"
  },
  "language_info": {
   "codemirror_mode": {
    "name": "ipython",
    "version": 3
   },
   "file_extension": ".py",
   "mimetype": "text/x-python",
   "name": "python",
   "nbconvert_exporter": "python",
   "pygments_lexer": "ipython3",
   "version": "3.10.12"
  }
 },
 "nbformat": 4,
 "nbformat_minor": 5
}
